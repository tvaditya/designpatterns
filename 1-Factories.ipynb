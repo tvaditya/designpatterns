{
 "cells": [
  {
   "cell_type": "markdown",
   "metadata": {},
   "source": [
    "# Factories"
   ]
  },
  {
   "cell_type": "markdown",
   "metadata": {},
   "source": [
    "## Factory \n",
    "<p> Defines an interface for creating an object but defers object isntatiation to run time </p>"
   ]
  },
  {
   "cell_type": "code",
   "execution_count": 1,
   "metadata": {},
   "outputs": [],
   "source": [
    "class ShapeInterface:\n",
    "    def draw(self): pass\n",
    "    \n",
    "class Circle(ShapeInterface):\n",
    "    def draw(self):\n",
    "        print(\"Circle.draw\")\n",
    "        \n",
    "class Square(ShapeInterface):\n",
    "    def draw(self):\n",
    "        print(\"Square.draw\")\n",
    "    "
   ]
  },
  {
   "cell_type": "code",
   "execution_count": 2,
   "metadata": {},
   "outputs": [],
   "source": [
    "class ShapeFactory:\n",
    "    @staticmethod\n",
    "    def getShape(type):\n",
    "        if type == 'circle':\n",
    "            return Circle\n",
    "        if type == 'square':\n",
    "            return Square\n",
    "        assert 0, 'Could not find that shape ' + type\n",
    "        \n",
    "        "
   ]
  },
  {
   "cell_type": "markdown",
   "metadata": {},
   "source": [
    "<p> Let's see how this works </p>"
   ]
  },
  {
   "cell_type": "code",
   "execution_count": 3,
   "metadata": {},
   "outputs": [],
   "source": [
    "f = ShapeFactory()"
   ]
  },
  {
   "cell_type": "code",
   "execution_count": 4,
   "metadata": {},
   "outputs": [
    {
     "data": {
      "text/plain": [
       "__main__.Square"
      ]
     },
     "execution_count": 4,
     "metadata": {},
     "output_type": "execute_result"
    }
   ],
   "source": [
    "# This will work\n",
    "f.getShape('square')"
   ]
  },
  {
   "cell_type": "code",
   "execution_count": 5,
   "metadata": {},
   "outputs": [
    {
     "data": {
      "text/plain": [
       "__main__.Circle"
      ]
     },
     "execution_count": 5,
     "metadata": {},
     "output_type": "execute_result"
    }
   ],
   "source": [
    "# And so will this\n",
    "f.getShape('circle')"
   ]
  },
  {
   "cell_type": "code",
   "execution_count": 6,
   "metadata": {},
   "outputs": [
    {
     "ename": "AssertionError",
     "evalue": "Could not find that shape rectangle",
     "output_type": "error",
     "traceback": [
      "\u001b[1;31m---------------------------------------------------------------------------\u001b[0m",
      "\u001b[1;31mAssertionError\u001b[0m                            Traceback (most recent call last)",
      "\u001b[1;32m<ipython-input-6-c940c3ef3137>\u001b[0m in \u001b[0;36m<module>\u001b[1;34m\u001b[0m\n\u001b[0;32m      1\u001b[0m \u001b[1;31m# Our assertion error\u001b[0m\u001b[1;33m\u001b[0m\u001b[1;33m\u001b[0m\u001b[1;33m\u001b[0m\u001b[0m\n\u001b[1;32m----> 2\u001b[1;33m \u001b[0mf\u001b[0m\u001b[1;33m.\u001b[0m\u001b[0mgetShape\u001b[0m\u001b[1;33m(\u001b[0m\u001b[1;34m'rectangle'\u001b[0m\u001b[1;33m)\u001b[0m\u001b[1;33m\u001b[0m\u001b[1;33m\u001b[0m\u001b[0m\n\u001b[0m",
      "\u001b[1;32m<ipython-input-2-499aa2ecbfbf>\u001b[0m in \u001b[0;36mgetShape\u001b[1;34m(type)\u001b[0m\n\u001b[0;32m      6\u001b[0m         \u001b[1;32mif\u001b[0m \u001b[0mtype\u001b[0m \u001b[1;33m==\u001b[0m \u001b[1;34m'square'\u001b[0m\u001b[1;33m:\u001b[0m\u001b[1;33m\u001b[0m\u001b[1;33m\u001b[0m\u001b[0m\n\u001b[0;32m      7\u001b[0m             \u001b[1;32mreturn\u001b[0m \u001b[0mSquare\u001b[0m\u001b[1;33m\u001b[0m\u001b[1;33m\u001b[0m\u001b[0m\n\u001b[1;32m----> 8\u001b[1;33m         \u001b[1;32massert\u001b[0m \u001b[1;36m0\u001b[0m\u001b[1;33m,\u001b[0m \u001b[1;34m'Could not find that shape '\u001b[0m \u001b[1;33m+\u001b[0m \u001b[0mtype\u001b[0m\u001b[1;33m\u001b[0m\u001b[1;33m\u001b[0m\u001b[0m\n\u001b[0m\u001b[0;32m      9\u001b[0m \u001b[1;33m\u001b[0m\u001b[0m\n\u001b[0;32m     10\u001b[0m \u001b[1;33m\u001b[0m\u001b[0m\n",
      "\u001b[1;31mAssertionError\u001b[0m: Could not find that shape rectangle"
     ]
    }
   ],
   "source": [
    "# Our assertion error\n",
    "f.getShape('rectangle')"
   ]
  },
  {
   "cell_type": "markdown",
   "metadata": {},
   "source": [
    "## Abstract Factory\n",
    "<p> An extension of a factory.</p>"
   ]
  },
  {
   "cell_type": "markdown",
   "metadata": {},
   "source": [
    "<p> Provides an interface to create families of object that are related without specifying their concrete classes. </p>"
   ]
  },
  {
   "cell_type": "code",
   "execution_count": 7,
   "metadata": {},
   "outputs": [],
   "source": [
    "# Abstract classes\n",
    "class Shape2DInterface:\n",
    "    def draw(self): pass\n",
    "    \n",
    "class Shape3DInterface:\n",
    "    def build(self): pass"
   ]
  },
  {
   "cell_type": "code",
   "execution_count": 8,
   "metadata": {},
   "outputs": [],
   "source": [
    "# Concrete classes\n",
    "class Circle(Shape2DInterface):\n",
    "    def draw(self):\n",
    "        print(\"Circle.draw\")\n",
    "        \n",
    "class Square(Shape2DInterface):\n",
    "    def draw(self):\n",
    "        print(\"Square.draw\")\n",
    "        \n",
    "class Sphere(Shape3DInterface):\n",
    "    def build(self):\n",
    "        print(\"Shpere.build\")\n",
    "        \n",
    "class Cube(Shape3DInterface):\n",
    "    def build(self):\n",
    "        print(\"Cube.build\")"
   ]
  },
  {
   "cell_type": "code",
   "execution_count": 9,
   "metadata": {},
   "outputs": [],
   "source": [
    "# Abstract shape factory\n",
    "class ShapeFactoryInterface:\n",
    "    def getShape(sides): pass\n",
    "    \n",
    "# Concrete shape factories\n",
    "class Shape2DFactory(ShapeFactoryInterface):\n",
    "    @staticmethod\n",
    "    def getShape(sides):\n",
    "        if sides == 1:\n",
    "            return Circle()\n",
    "        if sides == 4:\n",
    "            return Square()\n",
    "        assert 0, 'Could not find that 2D shape  with ' + sides + 'sides.'\n",
    "        \n",
    "class Shape3DFactory(ShapeFactoryInterface):\n",
    "    @staticmethod\n",
    "    def getShape(faces):\n",
    "        if faces == 1:\n",
    "            return Sphere()\n",
    "        if faces == 6:\n",
    "            return Cube()\n",
    "        assert 0, 'Could not find that 3D shape  with ' + faces + 'sides.'"
   ]
  },
  {
   "cell_type": "code",
   "execution_count": 10,
   "metadata": {},
   "outputs": [],
   "source": [
    "f2 = Shape2DFactory()\n",
    "f3 = Shape3DFactory()"
   ]
  },
  {
   "cell_type": "code",
   "execution_count": 11,
   "metadata": {},
   "outputs": [
    {
     "data": {
      "text/plain": [
       "<__main__.Circle at 0x233516c2d68>"
      ]
     },
     "execution_count": 11,
     "metadata": {},
     "output_type": "execute_result"
    }
   ],
   "source": [
    "f2.getShape(1)"
   ]
  },
  {
   "cell_type": "code",
   "execution_count": 12,
   "metadata": {},
   "outputs": [
    {
     "name": "stdout",
     "output_type": "stream",
     "text": [
      "Circle.draw\n"
     ]
    }
   ],
   "source": [
    "f2.getShape(1).draw()"
   ]
  },
  {
   "cell_type": "code",
   "execution_count": 13,
   "metadata": {},
   "outputs": [
    {
     "data": {
      "text/plain": [
       "<__main__.Sphere at 0x233516c7438>"
      ]
     },
     "execution_count": 13,
     "metadata": {},
     "output_type": "execute_result"
    }
   ],
   "source": [
    "f3.getShape(1)"
   ]
  },
  {
   "cell_type": "code",
   "execution_count": 14,
   "metadata": {},
   "outputs": [
    {
     "name": "stdout",
     "output_type": "stream",
     "text": [
      "Shpere.build\n"
     ]
    }
   ],
   "source": [
    "f3.getShape(1).build()"
   ]
  },
  {
   "cell_type": "markdown",
   "metadata": {},
   "source": [
    "## Builder"
   ]
  },
  {
   "cell_type": "markdown",
   "metadata": {},
   "source": [
    "<p> Separate the construction of o complex object from its representation so that the same construction process can create different representations.</p>\n",
    "<ul>\n",
    "  <li>Complex object</li>\n",
    "  <li>Director</li>\n",
    "  <li>Abstract builder</li>\n",
    "  <li>Concrete builder</li>\n",
    "</ul>\n"
   ]
  },
  {
   "cell_type": "code",
   "execution_count": 15,
   "metadata": {},
   "outputs": [],
   "source": [
    "class Car:\n",
    "    def __init__(self):\n",
    "        self.__wheels = list()\n",
    "        self.__engine = None\n",
    "        self.__body = None\n",
    "        \n",
    "    def setBody(self, body):\n",
    "        self.__body = body\n",
    "        \n",
    "    def attachWheel(self, wheel):\n",
    "        self.__wheels.append(wheel)\n",
    "        \n",
    "    def setEngine(self, engine):\n",
    "        self.__engine = engine\n",
    "        \n",
    "    def specification(self):\n",
    "        print(\"body: %s\" % self.__body.shape)\n",
    "        print(\"engine horsepower: %d\" %self.__engine.horsepower)\n",
    "        print(\"tire size: %d\\'\"% self.__wheels[0].size)"
   ]
  },
  {
   "cell_type": "code",
   "execution_count": 16,
   "metadata": {},
   "outputs": [],
   "source": [
    "# Car parts\n",
    "class Wheel:\n",
    "    size = None\n",
    "    \n",
    "class Engine:\n",
    "    horsepower = None\n",
    "    \n",
    "class Body:\n",
    "    shape = None\n",
    "    \n",
    "class Director:\n",
    "    __builder = None\n",
    "    \n",
    "    def setBuilder(self, builder):\n",
    "        self.__builder = builder\n",
    "        \n",
    "    def getCar(self):\n",
    "        car = Car()\n",
    "        \n",
    "        body = self.__builder.getBody()\n",
    "        car.setBody(body)\n",
    "    \n",
    "        engine = self.__builder.getEngine()\n",
    "        car.setEngine(engine)\n",
    "    \n",
    "        i = 0\n",
    "        while i  < 4:\n",
    "            wheel = self.__builder.getWheel()\n",
    "            car.attachWheel(wheel)\n",
    "            i +=1\n",
    "        \n",
    "        return car"
   ]
  },
  {
   "cell_type": "code",
   "execution_count": 17,
   "metadata": {},
   "outputs": [],
   "source": [
    "class BuilderInterface:\n",
    "    def getWheel(self): pass\n",
    "    def getEngine(self): pass\n",
    "    def getBody(self): pass\n",
    "    \n",
    "class JeepBuilder(BuilderInterface):\n",
    "    def getWheel(self):\n",
    "        wheel = Wheel()\n",
    "        wheel.size = 22\n",
    "        return wheel\n",
    "    \n",
    "    def getEngine(self):\n",
    "        engine = Engine()\n",
    "        engine.horsepower = 400\n",
    "        return engine\n",
    "    \n",
    "    def getBody(self):\n",
    "        body = Body()\n",
    "        body.shape = \"SUV\"\n",
    "        return body\n",
    "    \n",
    "class NissanBuilder(BuilderInterface):\n",
    "    def getWheel(self):\n",
    "        wheel = Wheel()\n",
    "        wheel.size = 16\n",
    "        return wheel\n",
    "    \n",
    "    def getEngine(self):\n",
    "        engine = Engine()\n",
    "        engine.horsepower = 100\n",
    "        return engine\n",
    "    \n",
    "    def getBody(self):\n",
    "        body = Body()\n",
    "        body.shape = \"hatch\"\n",
    "        return body"
   ]
  },
  {
   "cell_type": "code",
   "execution_count": 18,
   "metadata": {},
   "outputs": [],
   "source": [
    "d = Director()"
   ]
  },
  {
   "cell_type": "code",
   "execution_count": 19,
   "metadata": {},
   "outputs": [],
   "source": [
    "d.setBuilder(NissanBuilder())"
   ]
  },
  {
   "cell_type": "code",
   "execution_count": 20,
   "metadata": {},
   "outputs": [
    {
     "name": "stdout",
     "output_type": "stream",
     "text": [
      "body: hatch\n",
      "engine horsepower: 100\n",
      "tire size: 16'\n"
     ]
    }
   ],
   "source": [
    "d.getCar().specification()"
   ]
  },
  {
   "cell_type": "code",
   "execution_count": 21,
   "metadata": {},
   "outputs": [],
   "source": [
    "d.setBuilder(JeepBuilder())"
   ]
  },
  {
   "cell_type": "code",
   "execution_count": 22,
   "metadata": {},
   "outputs": [
    {
     "name": "stdout",
     "output_type": "stream",
     "text": [
      "body: SUV\n",
      "engine horsepower: 400\n",
      "tire size: 22'\n"
     ]
    }
   ],
   "source": [
    "d.getCar().specification()"
   ]
  },
  {
   "cell_type": "code",
   "execution_count": null,
   "metadata": {},
   "outputs": [],
   "source": []
  }
 ],
 "metadata": {
  "kernelspec": {
   "display_name": "Python 3",
   "language": "python",
   "name": "python3"
  },
  "language_info": {
   "codemirror_mode": {
    "name": "ipython",
    "version": 3
   },
   "file_extension": ".py",
   "mimetype": "text/x-python",
   "name": "python",
   "nbconvert_exporter": "python",
   "pygments_lexer": "ipython3",
   "version": "3.7.3"
  }
 },
 "nbformat": 4,
 "nbformat_minor": 2
}
